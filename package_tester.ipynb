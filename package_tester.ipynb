{
 "cells": [
  {
   "cell_type": "code",
   "execution_count": 1,
   "metadata": {},
   "outputs": [],
   "source": [
    "import pandas as pd\n",
    "import numpy as np\n",
    "\n",
    "import packtest"
   ]
  },
  {
   "cell_type": "code",
   "execution_count": 2,
   "metadata": {},
   "outputs": [],
   "source": [
    "# 데이터를 불러옵니다\n",
    "raw_data = pd.read_csv(\"Data-QuantTrading.csv\", index_col=\"KST\")\n",
    "raw_data = raw_data.drop(\"Unnamed: 0\", axis=1)\n",
    "raw_data.index = pd.to_datetime(raw_data.index)\n",
    "\n",
    "# 추가적으로 하나하나 제거해주어야 하는 문제가 있는 데이터들을 찾습니다\n",
    "# 문제 있는 데이터들의 경우 15:30 종가가 존재하지 않습니다\n",
    "tmp_data = raw_data.resample('d').last()\n",
    "for time in raw_data.index:\n",
    "    if (time.hour == 15) and (time.minute//10 == 2):\n",
    "        tmp_data = tmp_data.drop(str(time.year)+\"-\"+str(time.month)+\"-\"+str(time.day))\n",
    "\n",
    "\n",
    "for time in tmp_data.index:\n",
    "    day = time.weekday() \n",
    "    if day == 5: # 토요일 제거\n",
    "        tmp_data = tmp_data.drop(str(time.year)+\"-\"+str(time.month)+\"-\"+str(time.day))\n",
    "    elif day == 6: # 일요일 제거\n",
    "        tmp_data = tmp_data.drop(str(time.year)+\"-\"+str(time.month)+\"-\"+str(time.day))\n",
    "\n",
    "problematic_days = tmp_data.index\n",
    "\n",
    "# 토요일과 일요일 및\n",
    "# 위에서 찾은 문제가 있는 데이터들을 모두 drop 합니다.\n",
    "# 단순 반복문 + 조건문을 사용하기 때문에 꽤 시간이 걸립니다\n",
    "pp_data = raw_data.copy()\n",
    "\n",
    "for idx in pp_data.index:\n",
    "    day = idx.weekday()\n",
    "    if day == 5:\n",
    "        pp_data = pp_data.drop(idx, axis=0)\n",
    "    elif day == 6:\n",
    "        pp_data = pp_data.drop(idx, axis=0)\n",
    "\n",
    "    for problem in problematic_days:\n",
    "        if (idx.year) == problem.year and (idx.month == problem.month) and (idx.day == problem.day):\n",
    "             pp_data = pp_data.drop(idx, axis=0)"
   ]
  },
  {
   "cell_type": "code",
   "execution_count": null,
   "metadata": {},
   "outputs": [],
   "source": [
    "vwap = pd.DataFrame(pp_data[\"vwap\"])\n",
    "open = pd.DataFrame(pp_data[\"open\"])\n",
    "high = pd.DataFrame(pp_data[\"high\"])\n",
    "low = pd.DataFrame(pp_data[\"low\"])\n",
    "close = pd.DataFrame(pp_data[\"close\"])\n",
    "volume = pd.DataFrame(pp_data[\"volume\"])\n",
    "ticks = pd.DataFrame(pp_data[\"ticks\"])\n",
    "\n",
    "bid = pd.DataFrame(pp_data[\"bid\"])\n",
    "bid_size = pd.DataFrame(pp_data[\"bid_size\"])\n",
    "ask = pd.DataFrame(pp_data[\"ask\"])\n",
    "ask_size = pd.DataFrame(pp_data[\"ask_size\"])\n",
    "bid_ask_premium = pd.DataFrame(pp_data[\"ask\"] - pp_data['bid'])\n",
    "\n",
    "daily_close = []\n",
    "for time in pp_data.index:\n",
    "    if (time.hour == 15) and (time.minute//10 == 2):\n",
    "        daily_close.append(pp_data.loc[time,\"close\"])\n",
    "daily_close = pd.DataFrame(daily_close, index=close.resample('d').last().dropna(axis=0).index, columns=[\"daily_close\"])\n",
    "\n",
    "daily_open = []\n",
    "for time in pp_data.index:\n",
    "    if (time.hour == 9) and (time.minute//10 == 0):\n",
    "        daily_open.append(pp_data.loc[time,\"open\"])\n",
    "daily_open = pd.DataFrame(daily_open, index=close.resample('d').last().dropna(axis=0).index, columns=[\"daily_open\"])\n",
    "\n",
    "daily_high = []\n",
    "for time in daily_close.index:\n",
    "    start = \"{year}-{month}-{day} 09:00\".format(year=time.year, month=time.month, day=time.day)\n",
    "    end = \"{year}-{month}-{day} 15:30\".format(year=time.year, month=time.month, day=time.day)\n",
    "    daily_high.append(pp_data.loc[start:end][\"high\"].max())\n",
    "daily_high = pd.DataFrame(daily_high, index=daily_close.index, columns=[\"daily_high\"])\n",
    "\n",
    "daily_low = []\n",
    "for time in daily_close.index:\n",
    "    start = \"{year}-{month}-{day} 09:00\".format(year=time.year, month=time.month, day=time.day)\n",
    "    end = \"{year}-{month}-{day} 15:30\".format(year=time.year, month=time.month, day=time.day)\n",
    "    daily_low.append(pp_data.loc[start:end][\"low\"].min())\n",
    "daily_low = pd.DataFrame(daily_low, index=daily_close.index, columns=[\"daily_low\"])"
   ]
  },
  {
   "cell_type": "code",
   "execution_count": null,
   "metadata": {},
   "outputs": [],
   "source": [
    "class MyTest(packtest.Packtesting):\n",
    "    \n",
    "    def create_packet(self, current_time):\n",
    "        packet = {}\n",
    "        packet[\"close\"] = self.pack_get_data_expanding(current_time, \"close\")\n",
    "        packet[\"date\"] = self.pack_get_now(current_time)\n",
    "        return packet\n",
    "    \n",
    "    @staticmethod\n",
    "    def create_signal(packet):\n",
    "        ma20 = np.array([np.mean(packet[\"close\"][:,stock]) for stock in range(packet[\"close\"].shape[1])])\n",
    "        signal = np.where(packet[\"close\"][-1,:]>ma20, 100, -1)\n",
    "        return signal"
   ]
  },
  {
   "cell_type": "code",
   "execution_count": null,
   "metadata": {},
   "outputs": [],
   "source": [
    "bid.columns = [\"close\"]\n",
    "ask.columns = [\"close\"]\n",
    "bid_size.columns = [\"close\"]\n",
    "ask_size.columns = [\"close\"]\n",
    "packtest = MyTest(init_cash=100000000, bid_price=bid, ask_price=ask, bid_size=bid_size, ask_size=ask_size)\n",
    "packtest.post_data(\"close\", close)"
   ]
  }
 ],
 "metadata": {
  "kernelspec": {
   "display_name": "base",
   "language": "python",
   "name": "python3"
  },
  "language_info": {
   "codemirror_mode": {
    "name": "ipython",
    "version": 3
   },
   "file_extension": ".py",
   "mimetype": "text/x-python",
   "name": "python",
   "nbconvert_exporter": "python",
   "pygments_lexer": "ipython3",
   "version": "3.9.12"
  },
  "orig_nbformat": 4,
  "vscode": {
   "interpreter": {
    "hash": "fc4ce337282713409848ab88928d893b9876b2e31d1d6213dd5811bcb294b195"
   }
  }
 },
 "nbformat": 4,
 "nbformat_minor": 2
}

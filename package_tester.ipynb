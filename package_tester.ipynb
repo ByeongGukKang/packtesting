{
 "cells": [
  {
   "cell_type": "code",
   "execution_count": 1,
   "metadata": {},
   "outputs": [],
   "source": [
    "import pandas as pd\n",
    "import numpy as np\n",
    "\n",
    "import packtest"
   ]
  },
  {
   "cell_type": "code",
   "execution_count": 3,
   "metadata": {},
   "outputs": [
    {
     "name": "stderr",
     "output_type": "stream",
     "text": [
      "C:\\Users\\Byeong-Guk Kang\\AppData\\Local\\Temp\\ipykernel_19640\\4222271334.py:2: DtypeWarning: Columns (0,2,3,4,5,6,7,8,9,10,11,12,13,16) have mixed types. Specify dtype option on import or set low_memory=False.\n",
      "  raw_data = pd.read_csv(\"Data-QuantTrading.csv\", index_col=\"KST\")\n"
     ]
    },
    {
     "ename": "ParserError",
     "evalue": "Unknown string format: KST",
     "output_type": "error",
     "traceback": [
      "\u001b[1;31m---------------------------------------------------------------------------\u001b[0m",
      "\u001b[1;31mTypeError\u001b[0m                                 Traceback (most recent call last)",
      "File \u001b[1;32mc:\\Users\\Byeong-Guk Kang\\anaconda3\\lib\\site-packages\\pandas\\core\\arrays\\datetimes.py:2211\u001b[0m, in \u001b[0;36mobjects_to_datetime64ns\u001b[1;34m(data, dayfirst, yearfirst, utc, errors, require_iso8601, allow_object, allow_mixed)\u001b[0m\n\u001b[0;32m   2210\u001b[0m \u001b[39mtry\u001b[39;00m:\n\u001b[1;32m-> 2211\u001b[0m     values, tz_parsed \u001b[39m=\u001b[39m conversion\u001b[39m.\u001b[39;49mdatetime_to_datetime64(data\u001b[39m.\u001b[39;49mravel(\u001b[39m\"\u001b[39;49m\u001b[39mK\u001b[39;49m\u001b[39m\"\u001b[39;49m))\n\u001b[0;32m   2212\u001b[0m     \u001b[39m# If tzaware, these values represent unix timestamps, so we\u001b[39;00m\n\u001b[0;32m   2213\u001b[0m     \u001b[39m#  return them as i8 to distinguish from wall times\u001b[39;00m\n",
      "File \u001b[1;32mc:\\Users\\Byeong-Guk Kang\\anaconda3\\lib\\site-packages\\pandas\\_libs\\tslibs\\conversion.pyx:360\u001b[0m, in \u001b[0;36mpandas._libs.tslibs.conversion.datetime_to_datetime64\u001b[1;34m()\u001b[0m\n",
      "\u001b[1;31mTypeError\u001b[0m: Unrecognized value type: <class 'str'>",
      "\nDuring handling of the above exception, another exception occurred:\n",
      "\u001b[1;31mParserError\u001b[0m                               Traceback (most recent call last)",
      "\u001b[1;32mc:\\Users\\Byeong-Guk Kang\\Desktop\\Personal Projects\\new_backtest\\package_tester.ipynb Cell 2\u001b[0m in \u001b[0;36m<cell line: 4>\u001b[1;34m()\u001b[0m\n\u001b[0;32m      <a href='vscode-notebook-cell:/c%3A/Users/Byeong-Guk%20Kang/Desktop/Personal%20Projects/new_backtest/package_tester.ipynb#W1sZmlsZQ%3D%3D?line=1'>2</a>\u001b[0m raw_data \u001b[39m=\u001b[39m pd\u001b[39m.\u001b[39mread_csv(\u001b[39m\"\u001b[39m\u001b[39mData-QuantTrading.csv\u001b[39m\u001b[39m\"\u001b[39m, index_col\u001b[39m=\u001b[39m\u001b[39m\"\u001b[39m\u001b[39mKST\u001b[39m\u001b[39m\"\u001b[39m)\n\u001b[0;32m      <a href='vscode-notebook-cell:/c%3A/Users/Byeong-Guk%20Kang/Desktop/Personal%20Projects/new_backtest/package_tester.ipynb#W1sZmlsZQ%3D%3D?line=2'>3</a>\u001b[0m raw_data \u001b[39m=\u001b[39m raw_data\u001b[39m.\u001b[39mdrop(\u001b[39m\"\u001b[39m\u001b[39mUnnamed: 0\u001b[39m\u001b[39m\"\u001b[39m, axis\u001b[39m=\u001b[39m\u001b[39m1\u001b[39m)\n\u001b[1;32m----> <a href='vscode-notebook-cell:/c%3A/Users/Byeong-Guk%20Kang/Desktop/Personal%20Projects/new_backtest/package_tester.ipynb#W1sZmlsZQ%3D%3D?line=3'>4</a>\u001b[0m raw_data\u001b[39m.\u001b[39mindex \u001b[39m=\u001b[39m pd\u001b[39m.\u001b[39;49mto_datetime(raw_data\u001b[39m.\u001b[39;49mindex)\n\u001b[0;32m      <a href='vscode-notebook-cell:/c%3A/Users/Byeong-Guk%20Kang/Desktop/Personal%20Projects/new_backtest/package_tester.ipynb#W1sZmlsZQ%3D%3D?line=5'>6</a>\u001b[0m \u001b[39m# 추가적으로 하나하나 제거해주어야 하는 문제가 있는 데이터들을 찾습니다\u001b[39;00m\n\u001b[0;32m      <a href='vscode-notebook-cell:/c%3A/Users/Byeong-Guk%20Kang/Desktop/Personal%20Projects/new_backtest/package_tester.ipynb#W1sZmlsZQ%3D%3D?line=6'>7</a>\u001b[0m \u001b[39m# 문제 있는 데이터들의 경우 15:30 종가가 존재하지 않습니다\u001b[39;00m\n\u001b[0;32m      <a href='vscode-notebook-cell:/c%3A/Users/Byeong-Guk%20Kang/Desktop/Personal%20Projects/new_backtest/package_tester.ipynb#W1sZmlsZQ%3D%3D?line=7'>8</a>\u001b[0m tmp_data \u001b[39m=\u001b[39m raw_data\u001b[39m.\u001b[39mresample(\u001b[39m'\u001b[39m\u001b[39md\u001b[39m\u001b[39m'\u001b[39m)\u001b[39m.\u001b[39mlast()\n",
      "File \u001b[1;32mc:\\Users\\Byeong-Guk Kang\\anaconda3\\lib\\site-packages\\pandas\\core\\tools\\datetimes.py:1060\u001b[0m, in \u001b[0;36mto_datetime\u001b[1;34m(arg, errors, dayfirst, yearfirst, utc, format, exact, unit, infer_datetime_format, origin, cache)\u001b[0m\n\u001b[0;32m   1058\u001b[0m         result \u001b[39m=\u001b[39m _convert_and_box_cache(arg, cache_array, name\u001b[39m=\u001b[39marg\u001b[39m.\u001b[39mname)\n\u001b[0;32m   1059\u001b[0m     \u001b[39melse\u001b[39;00m:\n\u001b[1;32m-> 1060\u001b[0m         result \u001b[39m=\u001b[39m convert_listlike(arg, \u001b[39mformat\u001b[39;49m, name\u001b[39m=\u001b[39;49marg\u001b[39m.\u001b[39;49mname)\n\u001b[0;32m   1061\u001b[0m \u001b[39melif\u001b[39;00m is_list_like(arg):\n\u001b[0;32m   1062\u001b[0m     \u001b[39mtry\u001b[39;00m:\n",
      "File \u001b[1;32mc:\\Users\\Byeong-Guk Kang\\anaconda3\\lib\\site-packages\\pandas\\core\\tools\\datetimes.py:402\u001b[0m, in \u001b[0;36m_convert_listlike_datetimes\u001b[1;34m(arg, format, name, tz, unit, errors, infer_datetime_format, dayfirst, yearfirst, exact)\u001b[0m\n\u001b[0;32m    400\u001b[0m \u001b[39massert\u001b[39;00m \u001b[39mformat\u001b[39m \u001b[39mis\u001b[39;00m \u001b[39mNone\u001b[39;00m \u001b[39mor\u001b[39;00m infer_datetime_format\n\u001b[0;32m    401\u001b[0m utc \u001b[39m=\u001b[39m tz \u001b[39m==\u001b[39m \u001b[39m\"\u001b[39m\u001b[39mutc\u001b[39m\u001b[39m\"\u001b[39m\n\u001b[1;32m--> 402\u001b[0m result, tz_parsed \u001b[39m=\u001b[39m objects_to_datetime64ns(\n\u001b[0;32m    403\u001b[0m     arg,\n\u001b[0;32m    404\u001b[0m     dayfirst\u001b[39m=\u001b[39;49mdayfirst,\n\u001b[0;32m    405\u001b[0m     yearfirst\u001b[39m=\u001b[39;49myearfirst,\n\u001b[0;32m    406\u001b[0m     utc\u001b[39m=\u001b[39;49mutc,\n\u001b[0;32m    407\u001b[0m     errors\u001b[39m=\u001b[39;49merrors,\n\u001b[0;32m    408\u001b[0m     require_iso8601\u001b[39m=\u001b[39;49mrequire_iso8601,\n\u001b[0;32m    409\u001b[0m     allow_object\u001b[39m=\u001b[39;49m\u001b[39mTrue\u001b[39;49;00m,\n\u001b[0;32m    410\u001b[0m )\n\u001b[0;32m    412\u001b[0m \u001b[39mif\u001b[39;00m tz_parsed \u001b[39mis\u001b[39;00m \u001b[39mnot\u001b[39;00m \u001b[39mNone\u001b[39;00m:\n\u001b[0;32m    413\u001b[0m     \u001b[39m# We can take a shortcut since the datetime64 numpy array\u001b[39;00m\n\u001b[0;32m    414\u001b[0m     \u001b[39m# is in UTC\u001b[39;00m\n\u001b[0;32m    415\u001b[0m     dta \u001b[39m=\u001b[39m DatetimeArray(result, dtype\u001b[39m=\u001b[39mtz_to_dtype(tz_parsed))\n",
      "File \u001b[1;32mc:\\Users\\Byeong-Guk Kang\\anaconda3\\lib\\site-packages\\pandas\\core\\arrays\\datetimes.py:2217\u001b[0m, in \u001b[0;36mobjects_to_datetime64ns\u001b[1;34m(data, dayfirst, yearfirst, utc, errors, require_iso8601, allow_object, allow_mixed)\u001b[0m\n\u001b[0;32m   2215\u001b[0m         \u001b[39mreturn\u001b[39;00m values\u001b[39m.\u001b[39mview(\u001b[39m\"\u001b[39m\u001b[39mi8\u001b[39m\u001b[39m\"\u001b[39m), tz_parsed\n\u001b[0;32m   2216\u001b[0m     \u001b[39mexcept\u001b[39;00m (\u001b[39mValueError\u001b[39;00m, \u001b[39mTypeError\u001b[39;00m):\n\u001b[1;32m-> 2217\u001b[0m         \u001b[39mraise\u001b[39;00m err\n\u001b[0;32m   2219\u001b[0m \u001b[39mif\u001b[39;00m tz_parsed \u001b[39mis\u001b[39;00m \u001b[39mnot\u001b[39;00m \u001b[39mNone\u001b[39;00m:\n\u001b[0;32m   2220\u001b[0m     \u001b[39m# We can take a shortcut since the datetime64 numpy array\u001b[39;00m\n\u001b[0;32m   2221\u001b[0m     \u001b[39m#  is in UTC\u001b[39;00m\n\u001b[0;32m   2222\u001b[0m     \u001b[39m# Return i8 values to denote unix timestamps\u001b[39;00m\n\u001b[0;32m   2223\u001b[0m     \u001b[39mreturn\u001b[39;00m result\u001b[39m.\u001b[39mview(\u001b[39m\"\u001b[39m\u001b[39mi8\u001b[39m\u001b[39m\"\u001b[39m), tz_parsed\n",
      "File \u001b[1;32mc:\\Users\\Byeong-Guk Kang\\anaconda3\\lib\\site-packages\\pandas\\core\\arrays\\datetimes.py:2199\u001b[0m, in \u001b[0;36mobjects_to_datetime64ns\u001b[1;34m(data, dayfirst, yearfirst, utc, errors, require_iso8601, allow_object, allow_mixed)\u001b[0m\n\u001b[0;32m   2197\u001b[0m order: Literal[\u001b[39m\"\u001b[39m\u001b[39mF\u001b[39m\u001b[39m\"\u001b[39m, \u001b[39m\"\u001b[39m\u001b[39mC\u001b[39m\u001b[39m\"\u001b[39m] \u001b[39m=\u001b[39m \u001b[39m\"\u001b[39m\u001b[39mF\u001b[39m\u001b[39m\"\u001b[39m \u001b[39mif\u001b[39;00m flags\u001b[39m.\u001b[39mf_contiguous \u001b[39melse\u001b[39;00m \u001b[39m\"\u001b[39m\u001b[39mC\u001b[39m\u001b[39m\"\u001b[39m\n\u001b[0;32m   2198\u001b[0m \u001b[39mtry\u001b[39;00m:\n\u001b[1;32m-> 2199\u001b[0m     result, tz_parsed \u001b[39m=\u001b[39m tslib\u001b[39m.\u001b[39;49marray_to_datetime(\n\u001b[0;32m   2200\u001b[0m         data\u001b[39m.\u001b[39;49mravel(\u001b[39m\"\u001b[39;49m\u001b[39mK\u001b[39;49m\u001b[39m\"\u001b[39;49m),\n\u001b[0;32m   2201\u001b[0m         errors\u001b[39m=\u001b[39;49merrors,\n\u001b[0;32m   2202\u001b[0m         utc\u001b[39m=\u001b[39;49mutc,\n\u001b[0;32m   2203\u001b[0m         dayfirst\u001b[39m=\u001b[39;49mdayfirst,\n\u001b[0;32m   2204\u001b[0m         yearfirst\u001b[39m=\u001b[39;49myearfirst,\n\u001b[0;32m   2205\u001b[0m         require_iso8601\u001b[39m=\u001b[39;49mrequire_iso8601,\n\u001b[0;32m   2206\u001b[0m         allow_mixed\u001b[39m=\u001b[39;49mallow_mixed,\n\u001b[0;32m   2207\u001b[0m     )\n\u001b[0;32m   2208\u001b[0m     result \u001b[39m=\u001b[39m result\u001b[39m.\u001b[39mreshape(data\u001b[39m.\u001b[39mshape, order\u001b[39m=\u001b[39morder)\n\u001b[0;32m   2209\u001b[0m \u001b[39mexcept\u001b[39;00m \u001b[39mValueError\u001b[39;00m \u001b[39mas\u001b[39;00m err:\n",
      "File \u001b[1;32mc:\\Users\\Byeong-Guk Kang\\anaconda3\\lib\\site-packages\\pandas\\_libs\\tslib.pyx:381\u001b[0m, in \u001b[0;36mpandas._libs.tslib.array_to_datetime\u001b[1;34m()\u001b[0m\n",
      "File \u001b[1;32mc:\\Users\\Byeong-Guk Kang\\anaconda3\\lib\\site-packages\\pandas\\_libs\\tslib.pyx:613\u001b[0m, in \u001b[0;36mpandas._libs.tslib.array_to_datetime\u001b[1;34m()\u001b[0m\n",
      "File \u001b[1;32mc:\\Users\\Byeong-Guk Kang\\anaconda3\\lib\\site-packages\\pandas\\_libs\\tslib.pyx:751\u001b[0m, in \u001b[0;36mpandas._libs.tslib._array_to_datetime_object\u001b[1;34m()\u001b[0m\n",
      "File \u001b[1;32mc:\\Users\\Byeong-Guk Kang\\anaconda3\\lib\\site-packages\\pandas\\_libs\\tslib.pyx:742\u001b[0m, in \u001b[0;36mpandas._libs.tslib._array_to_datetime_object\u001b[1;34m()\u001b[0m\n",
      "File \u001b[1;32mc:\\Users\\Byeong-Guk Kang\\anaconda3\\lib\\site-packages\\pandas\\_libs\\tslibs\\parsing.pyx:281\u001b[0m, in \u001b[0;36mpandas._libs.tslibs.parsing.parse_datetime_string\u001b[1;34m()\u001b[0m\n",
      "File \u001b[1;32mc:\\Users\\Byeong-Guk Kang\\anaconda3\\lib\\site-packages\\dateutil\\parser\\_parser.py:1368\u001b[0m, in \u001b[0;36mparse\u001b[1;34m(timestr, parserinfo, **kwargs)\u001b[0m\n\u001b[0;32m   1366\u001b[0m     \u001b[39mreturn\u001b[39;00m parser(parserinfo)\u001b[39m.\u001b[39mparse(timestr, \u001b[39m*\u001b[39m\u001b[39m*\u001b[39mkwargs)\n\u001b[0;32m   1367\u001b[0m \u001b[39melse\u001b[39;00m:\n\u001b[1;32m-> 1368\u001b[0m     \u001b[39mreturn\u001b[39;00m DEFAULTPARSER\u001b[39m.\u001b[39mparse(timestr, \u001b[39m*\u001b[39m\u001b[39m*\u001b[39mkwargs)\n",
      "File \u001b[1;32mc:\\Users\\Byeong-Guk Kang\\anaconda3\\lib\\site-packages\\dateutil\\parser\\_parser.py:643\u001b[0m, in \u001b[0;36mparser.parse\u001b[1;34m(self, timestr, default, ignoretz, tzinfos, **kwargs)\u001b[0m\n\u001b[0;32m    640\u001b[0m res, skipped_tokens \u001b[39m=\u001b[39m \u001b[39mself\u001b[39m\u001b[39m.\u001b[39m_parse(timestr, \u001b[39m*\u001b[39m\u001b[39m*\u001b[39mkwargs)\n\u001b[0;32m    642\u001b[0m \u001b[39mif\u001b[39;00m res \u001b[39mis\u001b[39;00m \u001b[39mNone\u001b[39;00m:\n\u001b[1;32m--> 643\u001b[0m     \u001b[39mraise\u001b[39;00m ParserError(\u001b[39m\"\u001b[39m\u001b[39mUnknown string format: \u001b[39m\u001b[39m%s\u001b[39;00m\u001b[39m\"\u001b[39m, timestr)\n\u001b[0;32m    645\u001b[0m \u001b[39mif\u001b[39;00m \u001b[39mlen\u001b[39m(res) \u001b[39m==\u001b[39m \u001b[39m0\u001b[39m:\n\u001b[0;32m    646\u001b[0m     \u001b[39mraise\u001b[39;00m ParserError(\u001b[39m\"\u001b[39m\u001b[39mString does not contain a date: \u001b[39m\u001b[39m%s\u001b[39;00m\u001b[39m\"\u001b[39m, timestr)\n",
      "\u001b[1;31mParserError\u001b[0m: Unknown string format: KST"
     ]
    }
   ],
   "source": [
    "# 데이터를 불러옵니다\n",
    "raw_data = pd.read_csv(\"Data-QuantTrading.csv\", index_col=\"KST\")\n",
    "raw_data = raw_data.drop(\"Unnamed: 0\", axis=1)\n",
    "raw_data.index = pd.to_datetime(raw_data.index)\n",
    "\n",
    "# 추가적으로 하나하나 제거해주어야 하는 문제가 있는 데이터들을 찾습니다\n",
    "# 문제 있는 데이터들의 경우 15:30 종가가 존재하지 않습니다\n",
    "tmp_data = raw_data.resample('d').last()\n",
    "for time in raw_data.index:\n",
    "    if (time.hour == 15) and (time.minute//10 == 2):\n",
    "        tmp_data = tmp_data.drop(str(time.year)+\"-\"+str(time.month)+\"-\"+str(time.day))\n",
    "\n",
    "\n",
    "for time in tmp_data.index:\n",
    "    day = time.weekday() \n",
    "    if day == 5: # 토요일 제거\n",
    "        tmp_data = tmp_data.drop(str(time.year)+\"-\"+str(time.month)+\"-\"+str(time.day))\n",
    "    elif day == 6: # 일요일 제거\n",
    "        tmp_data = tmp_data.drop(str(time.year)+\"-\"+str(time.month)+\"-\"+str(time.day))\n",
    "\n",
    "problematic_days = tmp_data.index\n",
    "\n",
    "# 토요일과 일요일 및\n",
    "# 위에서 찾은 문제가 있는 데이터들을 모두 drop 합니다.\n",
    "# 단순 반복문 + 조건문을 사용하기 때문에 꽤 시간이 걸립니다\n",
    "pp_data = raw_data.copy()\n",
    "\n",
    "for idx in pp_data.index:\n",
    "    day = idx.weekday()\n",
    "    if day == 5:\n",
    "        pp_data = pp_data.drop(idx, axis=0)\n",
    "    elif day == 6:\n",
    "        pp_data = pp_data.drop(idx, axis=0)\n",
    "\n",
    "    for problem in problematic_days:\n",
    "        if (idx.year) == problem.year and (idx.month == problem.month) and (idx.day == problem.day):\n",
    "             pp_data = pp_data.drop(idx, axis=0)"
   ]
  },
  {
   "cell_type": "code",
   "execution_count": null,
   "metadata": {},
   "outputs": [],
   "source": [
    "vwap = pd.DataFrame(pp_data[\"vwap\"])\n",
    "open = pd.DataFrame(pp_data[\"open\"])\n",
    "high = pd.DataFrame(pp_data[\"high\"])\n",
    "low = pd.DataFrame(pp_data[\"low\"])\n",
    "close = pd.DataFrame(pp_data[\"close\"])\n",
    "volume = pd.DataFrame(pp_data[\"volume\"])\n",
    "ticks = pd.DataFrame(pp_data[\"ticks\"])\n",
    "\n",
    "bid = pd.DataFrame(pp_data[\"bid\"])\n",
    "bid_size = pd.DataFrame(pp_data[\"bid_size\"])\n",
    "ask = pd.DataFrame(pp_data[\"ask\"])\n",
    "ask_size = pd.DataFrame(pp_data[\"ask_size\"])\n",
    "bid_ask_premium = pd.DataFrame(pp_data[\"ask\"] - pp_data['bid'])\n",
    "\n",
    "daily_close = []\n",
    "for time in pp_data.index:\n",
    "    if (time.hour == 15) and (time.minute//10 == 2):\n",
    "        daily_close.append(pp_data.loc[time,\"close\"])\n",
    "daily_close = pd.DataFrame(daily_close, index=close.resample('d').last().dropna(axis=0).index, columns=[\"daily_close\"])\n",
    "\n",
    "daily_open = []\n",
    "for time in pp_data.index:\n",
    "    if (time.hour == 9) and (time.minute//10 == 0):\n",
    "        daily_open.append(pp_data.loc[time,\"open\"])\n",
    "daily_open = pd.DataFrame(daily_open, index=close.resample('d').last().dropna(axis=0).index, columns=[\"daily_open\"])\n",
    "\n",
    "daily_high = []\n",
    "for time in daily_close.index:\n",
    "    start = \"{year}-{month}-{day} 09:00\".format(year=time.year, month=time.month, day=time.day)\n",
    "    end = \"{year}-{month}-{day} 15:30\".format(year=time.year, month=time.month, day=time.day)\n",
    "    daily_high.append(pp_data.loc[start:end][\"high\"].max())\n",
    "daily_high = pd.DataFrame(daily_high, index=daily_close.index, columns=[\"daily_high\"])\n",
    "\n",
    "daily_low = []\n",
    "for time in daily_close.index:\n",
    "    start = \"{year}-{month}-{day} 09:00\".format(year=time.year, month=time.month, day=time.day)\n",
    "    end = \"{year}-{month}-{day} 15:30\".format(year=time.year, month=time.month, day=time.day)\n",
    "    daily_low.append(pp_data.loc[start:end][\"low\"].min())\n",
    "daily_low = pd.DataFrame(daily_low, index=daily_close.index, columns=[\"daily_low\"])"
   ]
  },
  {
   "cell_type": "code",
   "execution_count": null,
   "metadata": {},
   "outputs": [],
   "source": [
    "class MyTest(packtest.Packtesting):\n",
    "    \n",
    "    def create_packet(self, current_time):\n",
    "        packet = {}\n",
    "        packet[\"close\"] = self.pack_get_data_expanding(current_time, \"close\")\n",
    "        packet[\"date\"] = self.pack_get_now(current_time)\n",
    "        return packet\n",
    "    \n",
    "    @staticmethod\n",
    "    def create_signal(packet):\n",
    "        ma20 = np.array([np.mean(packet[\"close\"][:,stock]) for stock in range(packet[\"close\"].shape[1])])\n",
    "        signal = np.where(packet[\"close\"][-1,:]>ma20, 100, -1)\n",
    "        return signal"
   ]
  },
  {
   "cell_type": "code",
   "execution_count": null,
   "metadata": {},
   "outputs": [],
   "source": [
    "bid.columns = [\"close\"]\n",
    "ask.columns = [\"close\"]\n",
    "bid_size.columns = [\"close\"]\n",
    "ask_size.columns = [\"close\"]\n",
    "packtest = MyTest(init_cash=100000000, bid_price=bid, ask_price=ask, bid_size=bid_size, ask_size=ask_size)\n",
    "packtest.post_data(\"close\", close)"
   ]
  }
 ],
 "metadata": {
  "kernelspec": {
   "display_name": "base",
   "language": "python",
   "name": "python3"
  },
  "language_info": {
   "codemirror_mode": {
    "name": "ipython",
    "version": 3
   },
   "file_extension": ".py",
   "mimetype": "text/x-python",
   "name": "python",
   "nbconvert_exporter": "python",
   "pygments_lexer": "ipython3",
   "version": "3.9.12"
  },
  "orig_nbformat": 4,
  "vscode": {
   "interpreter": {
    "hash": "fc4ce337282713409848ab88928d893b9876b2e31d1d6213dd5811bcb294b195"
   }
  }
 },
 "nbformat": 4,
 "nbformat_minor": 2
}
